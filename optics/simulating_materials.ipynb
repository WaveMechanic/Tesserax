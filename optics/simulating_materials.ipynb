{
 "cells": [
  {
   "cell_type": "markdown",
   "metadata": {},
   "source": [
    "# Simulating Materials - Using Python\n",
    "\n",
    "#### Xtended Realities - Tesserax Project\n",
    "[Tesserax Github link](https://github.com/WaveMechanic/Tesserax)\n",
    "\n",
    "The goals of the project are:\n",
    "\n",
    "- Create accurate multi-scale material models (electronic, magnetic, optical, thermal)\n",
    "- Innovate design software for easier use\n",
    "- Pipeline I/O data in a modular way\n",
    "- Optimize calculations\n",
    "- Mention many relavent applications\n",
    "- Inverse design\n",
    "- Extensive, and interactive documentation\n",
    "\n",
    "The first topic that we will model is optics!\n",
    "\n",
    "Sources:\n",
    "1. [Fundumentals of Photonics](https://onlinelibrary.wiley.com/doi/book/10.1002/0471213748)\n"
   ]
  },
  {
   "cell_type": "markdown",
   "metadata": {},
   "source": [
    "## Optical properties of materials\n",
    "\n",
    "#### Quentin Curry\n",
    "\n",
    "When considering modeling an optical system, determining which sector of opticals to work with is important for efficiency.\n",
    "\n",
    "There are four main compartments of optics:\n",
    "\n",
    "<img src=\"simulating_materials_imgs\\optics_diagram.png\" alt=\"drawing\" width=\"500\"/>\n",
    "\n",
    "- Quantum optics\n",
    "- Electromagnetic optics\n",
    "- Wave optics\n",
    "- Ray optics"
   ]
  },
  {
   "cell_type": "markdown",
   "metadata": {},
   "source": [
    "## Ray Optics\n",
    "\n",
    "#### Quentin Curry\n",
    "\n",
    "Ray optics describes interactions where light that is much smaller than the material that is interacting with.\n",
    "\n",
    "##### Postulates of Ray Optics\n",
    "\n",
    "Optical mediums are characterized by the refractive index, $n$.\n",
    "\n",
    "$n(\\textbf{r})$ is the refractive index as a function of position $\\textbf{r}$ = (x, y, z) across the material.\n",
    "\n",
    "$ds$ = differential element of length along a path.\n",
    "\n",
    "A and B are two points in a medium (or material).\n",
    "\n",
    "\\begin{equation}\n",
    "\n",
    "    Optical \\quad pathlength = \\int_{A}^{B} n(\\textbf{r}) ds\n",
    "\n",
    "\\end{equation}\n"
   ]
  },
  {
   "cell_type": "code",
   "execution_count": 1,
   "metadata": {},
   "outputs": [
    {
     "name": "stdout",
     "output_type": "stream",
     "text": [
      "Optical pathlength =  -n(r)*(A - B)\n"
     ]
    }
   ],
   "source": [
    "from sympy import *\n",
    "\n",
    "# r = (x, y, z)\n",
    "A, B, n, s = symbols('A, B, n(r), s')\n",
    "\n",
    "optical_path_length = integrate(n, (s, A, B))\n",
    "\n",
    "print(\"Optical pathlength = \" , factor(optical_path_length))"
   ]
  },
  {
   "cell_type": "markdown",
   "metadata": {},
   "source": [
    "For homogeneous (uniform) mediums, the refractive index is constant, so that $n(\\textbf{r}) = n$ everywhere in the medium.\n",
    "\n"
   ]
  }
 ],
 "metadata": {
  "kernelspec": {
   "display_name": "Python 3.10.6 ('tesserax_venv': venv)",
   "language": "python",
   "name": "python3"
  },
  "language_info": {
   "codemirror_mode": {
    "name": "ipython",
    "version": 3
   },
   "file_extension": ".py",
   "mimetype": "text/x-python",
   "name": "python",
   "nbconvert_exporter": "python",
   "pygments_lexer": "ipython3",
   "version": "3.10.6"
  },
  "orig_nbformat": 4,
  "vscode": {
   "interpreter": {
    "hash": "d921498dc12c8a8f56dc4e9058b3fc5765d973d5e06be9a2999e1c6c33983964"
   }
  }
 },
 "nbformat": 4,
 "nbformat_minor": 2
}
